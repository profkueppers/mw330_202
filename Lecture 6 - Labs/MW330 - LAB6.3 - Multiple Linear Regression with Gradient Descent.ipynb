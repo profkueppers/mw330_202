{
 "cells": [
  {
   "cell_type": "code",
   "execution_count": 5,
   "metadata": {},
   "outputs": [],
   "source": [
    "import pandas as pd\n",
    "import seaborn as sns\n",
    "import matplotlib.pyplot as plt\n",
    "import numpy as np"
   ]
  },
  {
   "cell_type": "code",
   "execution_count": 6,
   "metadata": {},
   "outputs": [],
   "source": [
    "df = sns.load_dataset('mpg')"
   ]
  },
  {
   "cell_type": "code",
   "execution_count": 7,
   "metadata": {},
   "outputs": [],
   "source": [
    "X = df[['horsepower', 'weight']]\n",
    "y = df['mpg']"
   ]
  },
  {
   "cell_type": "markdown",
   "metadata": {},
   "source": [
    "# Lab 5.2: Pipeline with SimpleImputer and LinearRegression"
   ]
  },
  {
   "cell_type": "code",
   "execution_count": 8,
   "metadata": {},
   "outputs": [
    {
     "data": {
      "text/plain": [
       "0.703736486959471"
      ]
     },
     "execution_count": 8,
     "metadata": {},
     "output_type": "execute_result"
    }
   ],
   "source": [
    "from sklearn.linear_model import LinearRegression\n",
    "from sklearn.impute import SimpleImputer\n",
    "from sklearn.pipeline import make_pipeline\n",
    "\n",
    "pipeline = make_pipeline(SimpleImputer(), LinearRegression())\n",
    "\n",
    "pipeline.fit(X, y)\n",
    "pipeline.score(X, y)"
   ]
  },
  {
   "cell_type": "code",
   "execution_count": 9,
   "metadata": {},
   "outputs": [
    {
     "name": "stdout",
     "output_type": "stream",
     "text": [
      "intercept: 45.84151777419887\n",
      "slope: [-0.04390364 -0.00597233]\n"
     ]
    }
   ],
   "source": [
    "print(\"intercept: {}\".format(pipeline.named_steps['linearregression'].intercept_))\n",
    "print(\"slope: {}\".format(pipeline.named_steps['linearregression'].coef_))"
   ]
  },
  {
   "cell_type": "markdown",
   "metadata": {},
   "source": [
    "# Lab 5.3: Pipeline with SimpleImputer, StandardScaler and SGDRegressor"
   ]
  },
  {
   "cell_type": "code",
   "execution_count": 61,
   "metadata": {},
   "outputs": [
    {
     "data": {
      "text/plain": [
       "Pipeline(memory=None,\n",
       "     steps=[('simpleimputer', SimpleImputer(copy=True, fill_value=None, missing_values=nan, strategy='mean',\n",
       "       verbose=0)), ('standardscaler', StandardScaler(copy=True, with_mean=True, with_std=True)), ('sgdregressor', SGDRegressor(alpha=0.0001, average=False, early_stopping=False, epsilon=0.1,\n",
       "    ...m_state=None, shuffle=True, tol=None, validation_fraction=0.1,\n",
       "       verbose=0, warm_start=False))])"
      ]
     },
     "execution_count": 61,
     "metadata": {},
     "output_type": "execute_result"
    }
   ],
   "source": [
    "from sklearn.linear_model import SGDRegressor\n",
    "from sklearn.preprocessing import StandardScaler\n",
    "\n",
    "pipeline_sgd = make_pipeline(SimpleImputer(),\n",
    "                             StandardScaler(),\n",
    "                             SGDRegressor(max_iter=10000)\n",
    "                            )\n",
    "\n",
    "pipeline_sgd.fit(X, y)"
   ]
  },
  {
   "cell_type": "code",
   "execution_count": 62,
   "metadata": {},
   "outputs": [
    {
     "data": {
      "text/plain": [
       "0.7037364559471027"
      ]
     },
     "execution_count": 62,
     "metadata": {},
     "output_type": "execute_result"
    }
   ],
   "source": [
    "pipeline_sgd.score(X, y)"
   ]
  },
  {
   "cell_type": "code",
   "execution_count": 63,
   "metadata": {},
   "outputs": [
    {
     "name": "stdout",
     "output_type": "stream",
     "text": [
      "intercept: [23.51521795]\n",
      "slope: [-1.67642931 -5.05097191]\n"
     ]
    }
   ],
   "source": [
    "print(\"intercept: {}\".format(pipeline_sgd.named_steps['sgdregressor'].intercept_))\n",
    "print(\"slope: {}\".format(pipeline_sgd.named_steps['sgdregressor'].coef_))"
   ]
  },
  {
   "cell_type": "markdown",
   "metadata": {},
   "source": [
    "# Prediction comparison"
   ]
  },
  {
   "cell_type": "code",
   "execution_count": 58,
   "metadata": {},
   "outputs": [
    {
     "name": "stdout",
     "output_type": "stream",
     "text": [
      "[23.13067837]\n",
      "[21.9741867]\n"
     ]
    }
   ],
   "source": [
    "print(pipeline.predict([[150, 2700]]))\n",
    "print(pipeline_sgd.predict([[150, 2700]]))"
   ]
  },
  {
   "cell_type": "markdown",
   "metadata": {},
   "source": [
    "# Varying alpha"
   ]
  },
  {
   "cell_type": "code",
   "execution_count": 70,
   "metadata": {},
   "outputs": [
    {
     "data": {
      "text/plain": [
       "Pipeline(memory=None,\n",
       "     steps=[('simpleimputer', SimpleImputer(copy=True, fill_value=None, missing_values=nan, strategy='mean',\n",
       "       verbose=0)), ('standardscaler', StandardScaler(copy=True, with_mean=True, with_std=True)), ('sgdregressor', SGDRegressor(alpha=0.2, average=False, early_stopping=False, epsilon=0.1,\n",
       "       ...m_state=None, shuffle=True, tol=None, validation_fraction=0.1,\n",
       "       verbose=0, warm_start=False))])"
      ]
     },
     "execution_count": 70,
     "metadata": {},
     "output_type": "execute_result"
    }
   ],
   "source": [
    "pipeline_sgd_2 = make_pipeline(SimpleImputer(),\n",
    "                             StandardScaler(),\n",
    "                             SGDRegressor(alpha=0.2, max_iter=10000)\n",
    "                            )\n",
    "\n",
    "pipeline_sgd_2.fit(X, y)"
   ]
  },
  {
   "cell_type": "code",
   "execution_count": 71,
   "metadata": {},
   "outputs": [
    {
     "data": {
      "text/plain": [
       "0.6926948551721758"
      ]
     },
     "execution_count": 71,
     "metadata": {},
     "output_type": "execute_result"
    }
   ],
   "source": [
    "pipeline_sgd_2.score(X, y)"
   ]
  },
  {
   "cell_type": "code",
   "execution_count": 72,
   "metadata": {},
   "outputs": [
    {
     "name": "stdout",
     "output_type": "stream",
     "text": [
      "intercept: [23.5168968]\n",
      "slope: [-2.34350912 -3.72968907]\n"
     ]
    }
   ],
   "source": [
    "print(\"intercept: {}\".format(pipeline_sgd_2.named_steps['sgdregressor'].intercept_))\n",
    "print(\"slope: {}\".format(pipeline_sgd_2.named_steps['sgdregressor'].coef_))"
   ]
  },
  {
   "cell_type": "code",
   "execution_count": null,
   "metadata": {},
   "outputs": [],
   "source": []
  }
 ],
 "metadata": {
  "kernelspec": {
   "display_name": "Python 3",
   "language": "python",
   "name": "python3"
  },
  "language_info": {
   "codemirror_mode": {
    "name": "ipython",
    "version": 3
   },
   "file_extension": ".py",
   "mimetype": "text/x-python",
   "name": "python",
   "nbconvert_exporter": "python",
   "pygments_lexer": "ipython3",
   "version": "3.6.6"
  }
 },
 "nbformat": 4,
 "nbformat_minor": 2
}
